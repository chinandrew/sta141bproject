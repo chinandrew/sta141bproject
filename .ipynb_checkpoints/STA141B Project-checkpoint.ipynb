{
 "cells": [
  {
   "cell_type": "markdown",
   "metadata": {},
   "source": [
    "## Data Sources"
   ]
  },
  {
   "cell_type": "markdown",
   "metadata": {},
   "source": [
    "TSA Claims https://www.dhs.gov/tsa-claims-data   \n",
    "Airline coordinates http://openflights.org/data.html  \n",
    "Airline passenger enplanements https://www.faa.gov/airports/planning_capacity/passenger_allcargo_stats/passenger/"
   ]
  },
  {
   "cell_type": "markdown",
   "metadata": {},
   "source": [
    "# TSA Data"
   ]
  },
  {
   "cell_type": "markdown",
   "metadata": {},
   "source": [
    "This is data published by the Department of Homeland Security of claims made against the Transportation Security Administration. It includes the airline of the passenger, airport, claim site, claim type, close amount, date of the incident and report, disposition, and type of claim and item. We are interested in data beginning in 2007 and ending in 2015. This report will outline the analysis procedure and explore the data to answer questions of interest."
   ]
  },
  {
   "cell_type": "markdown",
   "metadata": {},
   "source": [
    "We first begin by importing the requisite packages and libraries, and then reading in the data. The data are split over 4 excel files in both xlsx and xls formats. We will import them as pandas dataframes and append them together into one larger dataframe. Beforehand, the name of one column in one of the files was renamed to match with the others, though no other modifications to the raw data were made."
   ]
  },
  {
   "cell_type": "code",
   "execution_count": 1,
   "metadata": {
    "collapsed": true
   },
   "outputs": [],
   "source": [
    "import pandas as pd\n",
    "import matplotlib\n",
    "from matplotlib import pyplot as plt\n",
    "import numpy as np\n",
    "import glob\n",
    "import plotly.plotly as py\n",
    "import plotly.graph_objs as go\n"
   ]
  },
  {
   "cell_type": "code",
   "execution_count": 2,
   "metadata": {
    "collapsed": false
   },
   "outputs": [],
   "source": [
    "directory = \"data/\"\n",
    "data = pd.read_excel(\"data/claims-data-2015-as-of-feb-9-2016.xlsx\")\n",
    "for filename in glob.glob(directory + \"*.xls\"):\n",
    "    data = data.append(pd.read_excel(filename))\n",
    "data = data.iloc[:,[0,1,5,6,7,8,9,10,11]].reset_index()\n",
    "del data['index']"
   ]
  },
  {
   "cell_type": "markdown",
   "metadata": {},
   "source": [
    "Here are the first 5 rows of our dataframe. There are missing data present in some entries, which will be dealt with in the next step. Columns which were not required(such as airport name, which is redundant due to the airport code) were removed."
   ]
  },
  {
   "cell_type": "code",
   "execution_count": 3,
   "metadata": {
    "collapsed": false,
    "scrolled": true
   },
   "outputs": [
    {
     "data": {
      "text/html": [
       "<div>\n",
       "<table border=\"1\" class=\"dataframe\">\n",
       "  <thead>\n",
       "    <tr style=\"text-align: right;\">\n",
       "      <th></th>\n",
       "      <th>Airline Name</th>\n",
       "      <th>Airport Code</th>\n",
       "      <th>Claim Site</th>\n",
       "      <th>Claim Type</th>\n",
       "      <th>Close Amount</th>\n",
       "      <th>Date Received</th>\n",
       "      <th>Disposition</th>\n",
       "      <th>Incident Date</th>\n",
       "      <th>Item Category</th>\n",
       "    </tr>\n",
       "  </thead>\n",
       "  <tbody>\n",
       "    <tr>\n",
       "      <th>0</th>\n",
       "      <td>Allegiant Air</td>\n",
       "      <td>ABE</td>\n",
       "      <td>Checkpoint</td>\n",
       "      <td>Property Damage</td>\n",
       "      <td>0</td>\n",
       "      <td>2015-05-28</td>\n",
       "      <td>Deny</td>\n",
       "      <td>2015-05-21 00:00:00</td>\n",
       "      <td>Personal Electronics</td>\n",
       "    </tr>\n",
       "    <tr>\n",
       "      <th>1</th>\n",
       "      <td>-</td>\n",
       "      <td>ABE</td>\n",
       "      <td>Checked Baggage</td>\n",
       "      <td>Property Damage</td>\n",
       "      <td>180</td>\n",
       "      <td>2015-08-21</td>\n",
       "      <td>Settle</td>\n",
       "      <td>2015-08-01 00:00:00</td>\n",
       "      <td>Sporting Equipment &amp; Supplies</td>\n",
       "    </tr>\n",
       "    <tr>\n",
       "      <th>2</th>\n",
       "      <td>Allegiant Air</td>\n",
       "      <td>ABE</td>\n",
       "      <td>Checked Baggage</td>\n",
       "      <td>Passenger Property Loss</td>\n",
       "      <td>60</td>\n",
       "      <td>2015-10-07</td>\n",
       "      <td>Approve in Full</td>\n",
       "      <td>2015-10-02 00:00:00</td>\n",
       "      <td>Clothing</td>\n",
       "    </tr>\n",
       "    <tr>\n",
       "      <th>3</th>\n",
       "      <td>Allegiant Air</td>\n",
       "      <td>ABE</td>\n",
       "      <td>Checkpoint</td>\n",
       "      <td>Property Damage</td>\n",
       "      <td>-</td>\n",
       "      <td>2015-10-27</td>\n",
       "      <td>-</td>\n",
       "      <td>2015-10-19 00:00:00</td>\n",
       "      <td>Personal Accessories</td>\n",
       "    </tr>\n",
       "    <tr>\n",
       "      <th>4</th>\n",
       "      <td>American Airlines</td>\n",
       "      <td>ABI</td>\n",
       "      <td>Checked Baggage</td>\n",
       "      <td>Property Damage</td>\n",
       "      <td>0</td>\n",
       "      <td>2015-01-22</td>\n",
       "      <td>Deny</td>\n",
       "      <td>2014-12-23 00:00:00</td>\n",
       "      <td>Home Decor</td>\n",
       "    </tr>\n",
       "  </tbody>\n",
       "</table>\n",
       "</div>"
      ],
      "text/plain": [
       "          Airline Name Airport Code       Claim Site               Claim Type  \\\n",
       "0        Allegiant Air          ABE       Checkpoint          Property Damage   \n",
       "1                    -          ABE  Checked Baggage          Property Damage   \n",
       "2        Allegiant Air          ABE  Checked Baggage  Passenger Property Loss   \n",
       "3        Allegiant Air          ABE       Checkpoint          Property Damage   \n",
       "4  American Airlines            ABI  Checked Baggage          Property Damage   \n",
       "\n",
       "  Close Amount Date Received      Disposition        Incident Date  \\\n",
       "0            0    2015-05-28             Deny  2015-05-21 00:00:00   \n",
       "1          180    2015-08-21           Settle  2015-08-01 00:00:00   \n",
       "2           60    2015-10-07  Approve in Full  2015-10-02 00:00:00   \n",
       "3            -    2015-10-27                -  2015-10-19 00:00:00   \n",
       "4            0    2015-01-22             Deny  2014-12-23 00:00:00   \n",
       "\n",
       "                   Item Category  \n",
       "0           Personal Electronics  \n",
       "1  Sporting Equipment & Supplies  \n",
       "2                       Clothing  \n",
       "3           Personal Accessories  \n",
       "4                     Home Decor  "
      ]
     },
     "execution_count": 3,
     "metadata": {},
     "output_type": "execute_result"
    }
   ],
   "source": [
    "data.head()"
   ]
  },
  {
   "cell_type": "markdown",
   "metadata": {},
   "source": [
    "We remove entries without an airline and without a disposition, and we will only focus on claims for property damage and passenger property loss, since they are the most common and most relevant to most passengers. Rows with NA values were removed as well. This does not imply that these data are not useful, and further analysis on missingness might yield insights. Our final dataset contains 82,589 claims."
   ]
  },
  {
   "cell_type": "code",
   "execution_count": 4,
   "metadata": {
    "collapsed": false
   },
   "outputs": [
    {
     "data": {
      "text/plain": [
       "Claim Type\n",
       "-                            282\n",
       "Bus Terminal                   1\n",
       "Complaint                     48\n",
       "Compliment                     3\n",
       "Employee Loss (MPCECA)        71\n",
       "Motor Vehicle                307\n",
       "Passenger Property Loss    67700\n",
       "Passenger Theft               24\n",
       "Personal Injury              972\n",
       "Property Damage            37349\n",
       "Wrongful Death                 4\n",
       "Name: Claim Type, dtype: int64"
      ]
     },
     "execution_count": 4,
     "metadata": {},
     "output_type": "execute_result"
    }
   ],
   "source": [
    "data['Claim Type'].groupby(data['Claim Type']).count()"
   ]
  },
  {
   "cell_type": "code",
   "execution_count": 5,
   "metadata": {
    "collapsed": false
   },
   "outputs": [],
   "source": [
    "data = data[data[\"Disposition\"] != '-']\n",
    "data = data[data[\"Airline Name\"] != '-']\n",
    "data = data[(data['Claim Type']  ==\"Property Damage\" ) | (data['Claim Type']  ==\"Passenger Property Loss\" )].dropna()"
   ]
  },
  {
   "cell_type": "code",
   "execution_count": 6,
   "metadata": {
    "collapsed": false
   },
   "outputs": [
    {
     "data": {
      "text/plain": [
       "(82589, 9)"
      ]
     },
     "execution_count": 6,
     "metadata": {},
     "output_type": "execute_result"
    }
   ],
   "source": [
    "data.shape"
   ]
  },
  {
   "cell_type": "code",
   "execution_count": 7,
   "metadata": {
    "collapsed": false
   },
   "outputs": [
    {
     "data": {
      "text/html": [
       "<div>\n",
       "<table border=\"1\" class=\"dataframe\">\n",
       "  <thead>\n",
       "    <tr style=\"text-align: right;\">\n",
       "      <th></th>\n",
       "      <th>Airline Name</th>\n",
       "      <th>Airport Code</th>\n",
       "      <th>Claim Site</th>\n",
       "      <th>Claim Type</th>\n",
       "      <th>Close Amount</th>\n",
       "      <th>Date Received</th>\n",
       "      <th>Disposition</th>\n",
       "      <th>Incident Date</th>\n",
       "      <th>Item Category</th>\n",
       "    </tr>\n",
       "  </thead>\n",
       "  <tbody>\n",
       "    <tr>\n",
       "      <th>0</th>\n",
       "      <td>Allegiant Air</td>\n",
       "      <td>ABE</td>\n",
       "      <td>Checkpoint</td>\n",
       "      <td>Property Damage</td>\n",
       "      <td>0</td>\n",
       "      <td>2015-05-28</td>\n",
       "      <td>Deny</td>\n",
       "      <td>2015-05-21 00:00:00</td>\n",
       "      <td>Personal Electronics</td>\n",
       "    </tr>\n",
       "    <tr>\n",
       "      <th>2</th>\n",
       "      <td>Allegiant Air</td>\n",
       "      <td>ABE</td>\n",
       "      <td>Checked Baggage</td>\n",
       "      <td>Passenger Property Loss</td>\n",
       "      <td>60</td>\n",
       "      <td>2015-10-07</td>\n",
       "      <td>Approve in Full</td>\n",
       "      <td>2015-10-02 00:00:00</td>\n",
       "      <td>Clothing</td>\n",
       "    </tr>\n",
       "    <tr>\n",
       "      <th>4</th>\n",
       "      <td>American Airlines</td>\n",
       "      <td>ABI</td>\n",
       "      <td>Checked Baggage</td>\n",
       "      <td>Property Damage</td>\n",
       "      <td>0</td>\n",
       "      <td>2015-01-22</td>\n",
       "      <td>Deny</td>\n",
       "      <td>2014-12-23 00:00:00</td>\n",
       "      <td>Home Decor</td>\n",
       "    </tr>\n",
       "    <tr>\n",
       "      <th>5</th>\n",
       "      <td>American Airlines</td>\n",
       "      <td>ABI</td>\n",
       "      <td>Checked Baggage</td>\n",
       "      <td>Passenger Property Loss</td>\n",
       "      <td>200</td>\n",
       "      <td>2015-08-05</td>\n",
       "      <td>Approve in Full</td>\n",
       "      <td>2015-07-14 00:00:00</td>\n",
       "      <td>Baggage/Cases/Purses</td>\n",
       "    </tr>\n",
       "    <tr>\n",
       "      <th>6</th>\n",
       "      <td>American Airlines</td>\n",
       "      <td>ABI</td>\n",
       "      <td>Checked Baggage</td>\n",
       "      <td>Passenger Property Loss</td>\n",
       "      <td>0</td>\n",
       "      <td>2015-09-07</td>\n",
       "      <td>Deny</td>\n",
       "      <td>2015-08-06 00:00:00</td>\n",
       "      <td>Personal Electronics</td>\n",
       "    </tr>\n",
       "  </tbody>\n",
       "</table>\n",
       "</div>"
      ],
      "text/plain": [
       "          Airline Name Airport Code       Claim Site               Claim Type  \\\n",
       "0        Allegiant Air          ABE       Checkpoint          Property Damage   \n",
       "2        Allegiant Air          ABE  Checked Baggage  Passenger Property Loss   \n",
       "4  American Airlines            ABI  Checked Baggage          Property Damage   \n",
       "5  American Airlines            ABI  Checked Baggage  Passenger Property Loss   \n",
       "6  American Airlines            ABI  Checked Baggage  Passenger Property Loss   \n",
       "\n",
       "  Close Amount Date Received      Disposition        Incident Date  \\\n",
       "0            0    2015-05-28             Deny  2015-05-21 00:00:00   \n",
       "2           60    2015-10-07  Approve in Full  2015-10-02 00:00:00   \n",
       "4            0    2015-01-22             Deny  2014-12-23 00:00:00   \n",
       "5          200    2015-08-05  Approve in Full  2015-07-14 00:00:00   \n",
       "6            0    2015-09-07             Deny  2015-08-06 00:00:00   \n",
       "\n",
       "          Item Category  \n",
       "0  Personal Electronics  \n",
       "2              Clothing  \n",
       "4            Home Decor  \n",
       "5  Baggage/Cases/Purses  \n",
       "6  Personal Electronics  "
      ]
     },
     "execution_count": 7,
     "metadata": {},
     "output_type": "execute_result"
    }
   ],
   "source": [
    "data.head()"
   ]
  },
  {
   "cell_type": "markdown",
   "metadata": {},
   "source": [
    "## Analysis"
   ]
  },
  {
   "cell_type": "markdown",
   "metadata": {},
   "source": [
    "### Which Airports Have the Most Claims?"
   ]
  },
  {
   "cell_type": "markdown",
   "metadata": {},
   "source": [
    "To answer this question, we'll start by grouping the claims by airport. Airports such as JFK, LAX, amd MCO have the greatest numbers of claims, at over 3000."
   ]
  },
  {
   "cell_type": "code",
   "execution_count": 8,
   "metadata": {
    "collapsed": false
   },
   "outputs": [],
   "source": [
    "airlinecounts = pd.DataFrame({'count' : data['Airport Code'].groupby(data['Airport Code']).size().sort_values()}).reset_index()"
   ]
  },
  {
   "cell_type": "code",
   "execution_count": 9,
   "metadata": {
    "collapsed": false,
    "scrolled": true
   },
   "outputs": [
    {
     "data": {
      "text/html": [
       "<div>\n",
       "<table border=\"1\" class=\"dataframe\">\n",
       "  <thead>\n",
       "    <tr style=\"text-align: right;\">\n",
       "      <th></th>\n",
       "      <th>Airport Code</th>\n",
       "      <th>count</th>\n",
       "    </tr>\n",
       "  </thead>\n",
       "  <tbody>\n",
       "    <tr>\n",
       "      <th>419</th>\n",
       "      <td>ATL</td>\n",
       "      <td>2873</td>\n",
       "    </tr>\n",
       "    <tr>\n",
       "      <th>420</th>\n",
       "      <td>EWR</td>\n",
       "      <td>2902</td>\n",
       "    </tr>\n",
       "    <tr>\n",
       "      <th>421</th>\n",
       "      <td>MCO</td>\n",
       "      <td>3319</td>\n",
       "    </tr>\n",
       "    <tr>\n",
       "      <th>422</th>\n",
       "      <td>LAX</td>\n",
       "      <td>3583</td>\n",
       "    </tr>\n",
       "    <tr>\n",
       "      <th>423</th>\n",
       "      <td>JFK</td>\n",
       "      <td>4828</td>\n",
       "    </tr>\n",
       "  </tbody>\n",
       "</table>\n",
       "</div>"
      ],
      "text/plain": [
       "    Airport Code  count\n",
       "419          ATL   2873\n",
       "420          EWR   2902\n",
       "421          MCO   3319\n",
       "422          LAX   3583\n",
       "423          JFK   4828"
      ]
     },
     "execution_count": 9,
     "metadata": {},
     "output_type": "execute_result"
    }
   ],
   "source": [
    "airlinecounts.tail()"
   ]
  },
  {
   "cell_type": "markdown",
   "metadata": {},
   "source": [
    "This statistic does not account for the passenger throughput of the airports. One would expect that more passengers would yield more claims. Using enplanement data published by the FAA on commercial service airports, we can merge our airport data with the number of enplanements. The dataset includes other columns as well, but we will use the 2015 enplanements to gauge the volume of passengers. The Rank column is ordered by number of enplanements. "
   ]
  },
  {
   "cell_type": "markdown",
   "metadata": {},
   "source": [
    "For later plots, we will also introduce the coordinates of each airport to our data. These coordinates are published by openflights.org."
   ]
  },
  {
   "cell_type": "code",
   "execution_count": 10,
   "metadata": {
    "collapsed": false,
    "scrolled": true
   },
   "outputs": [
    {
     "data": {
      "text/html": [
       "<div>\n",
       "<table border=\"1\" class=\"dataframe\">\n",
       "  <thead>\n",
       "    <tr style=\"text-align: right;\">\n",
       "      <th></th>\n",
       "      <th>Airport Code</th>\n",
       "      <th>count</th>\n",
       "      <th>Rank</th>\n",
       "      <th>CY 15 Enplanements</th>\n",
       "    </tr>\n",
       "  </thead>\n",
       "  <tbody>\n",
       "    <tr>\n",
       "      <th>0</th>\n",
       "      <td>VDZ</td>\n",
       "      <td>1</td>\n",
       "      <td>370</td>\n",
       "      <td>14153</td>\n",
       "    </tr>\n",
       "    <tr>\n",
       "      <th>1</th>\n",
       "      <td>IWD</td>\n",
       "      <td>1</td>\n",
       "      <td>465</td>\n",
       "      <td>4697</td>\n",
       "    </tr>\n",
       "    <tr>\n",
       "      <th>2</th>\n",
       "      <td>IRK</td>\n",
       "      <td>1</td>\n",
       "      <td>449</td>\n",
       "      <td>5167</td>\n",
       "    </tr>\n",
       "    <tr>\n",
       "      <th>3</th>\n",
       "      <td>PPG</td>\n",
       "      <td>1</td>\n",
       "      <td>261</td>\n",
       "      <td>65860</td>\n",
       "    </tr>\n",
       "    <tr>\n",
       "      <th>4</th>\n",
       "      <td>FMN</td>\n",
       "      <td>1</td>\n",
       "      <td>519</td>\n",
       "      <td>3083</td>\n",
       "    </tr>\n",
       "  </tbody>\n",
       "</table>\n",
       "</div>"
      ],
      "text/plain": [
       "  Airport Code  count  Rank  CY 15 Enplanements\n",
       "0          VDZ      1   370               14153\n",
       "1          IWD      1   465                4697\n",
       "2          IRK      1   449                5167\n",
       "3          PPG      1   261               65860\n",
       "4          FMN      1   519                3083"
      ]
     },
     "execution_count": 10,
     "metadata": {},
     "output_type": "execute_result"
    }
   ],
   "source": [
    "throughput = pd.read_excel(\"cy15-commercial-service-enplanements.xlsx\")\n",
    "airlines = airlinecounts.merge(throughput, on =\"Airport Code\")\n",
    "airlines.iloc[:,[0,1,2,9]].head()"
   ]
  },
  {
   "cell_type": "markdown",
   "metadata": {},
   "source": [
    "We can plot the number of enplanements vs counts. From both plots we see that there is a strong positive correlation. As predicted, as enplanements increases, so do claims."
   ]
  },
  {
   "cell_type": "code",
   "execution_count": 11,
   "metadata": {
    "collapsed": false
   },
   "outputs": [
    {
     "name": "stdout",
     "output_type": "stream",
     "text": [
      "High five! You successfuly sent some data to your account on plotly. View your plot in your browser at https://plot.ly/~andrewchin/0 or inside your plot.ly account where it is named 'basic-scatter'\n"
     ]
    },
    {
     "data": {
      "text/html": [
       "<iframe id=\"igraph\" scrolling=\"no\" style=\"border:none;\" seamless=\"seamless\" src=\"https://plot.ly/~andrewchin/0.embed\" height=\"525px\" width=\"100%\"></iframe>"
      ],
      "text/plain": [
       "<plotly.tools.PlotlyDisplay object>"
      ]
     },
     "execution_count": 11,
     "metadata": {},
     "output_type": "execute_result"
    }
   ],
   "source": [
    "fig = {\n",
    "    'data': [\n",
    "  \t\t{\n",
    "  \t\t\t'x': airlines['CY 15 Enplanements'], \n",
    "        \t'y': airlines['count'],\n",
    "        \t'text': airlines['Airport Code'], \n",
    "        \t'mode': 'markers'\n",
    "        }\n",
    "\n",
    "    ],\n",
    "    'layout': {\n",
    "        'xaxis': {'title': 'Passengers in 2015' },\n",
    "        'yaxis': {'title': 'Number of Claims'}\n",
    "    }\n",
    "}\n",
    "\n",
    "\n",
    "py.iplot(fig, filename='basic-scatter')"
   ]
  },
  {
   "cell_type": "code",
   "execution_count": 12,
   "metadata": {
    "collapsed": false,
    "scrolled": true
   },
   "outputs": [
    {
     "data": {
      "text/plain": [
       "Claim Type\n",
       "Passenger Property Loss    53220\n",
       "Property Damage            29369\n",
       "Name: Claim Type, dtype: int64"
      ]
     },
     "execution_count": 12,
     "metadata": {},
     "output_type": "execute_result"
    }
   ],
   "source": [
    "data['Claim Type'].groupby(data['Claim Type']).count()"
   ]
  },
  {
   "cell_type": "code",
   "execution_count": 24,
   "metadata": {
    "collapsed": false,
    "scrolled": true
   },
   "outputs": [
    {
     "data": {
      "text/html": [
       "<div>\n",
       "<table border=\"1\" class=\"dataframe\">\n",
       "  <thead>\n",
       "    <tr style=\"text-align: right;\">\n",
       "      <th></th>\n",
       "      <th>Airport Code</th>\n",
       "      <th>Lat</th>\n",
       "      <th>Long</th>\n",
       "    </tr>\n",
       "  </thead>\n",
       "  <tbody>\n",
       "    <tr>\n",
       "      <th>0</th>\n",
       "      <td>GKA</td>\n",
       "      <td>-6.081690</td>\n",
       "      <td>145.391998</td>\n",
       "    </tr>\n",
       "    <tr>\n",
       "      <th>1</th>\n",
       "      <td>MAG</td>\n",
       "      <td>-5.207080</td>\n",
       "      <td>145.789001</td>\n",
       "    </tr>\n",
       "    <tr>\n",
       "      <th>2</th>\n",
       "      <td>HGU</td>\n",
       "      <td>-5.826790</td>\n",
       "      <td>144.296005</td>\n",
       "    </tr>\n",
       "    <tr>\n",
       "      <th>3</th>\n",
       "      <td>LAE</td>\n",
       "      <td>-6.569803</td>\n",
       "      <td>146.725977</td>\n",
       "    </tr>\n",
       "    <tr>\n",
       "      <th>4</th>\n",
       "      <td>POM</td>\n",
       "      <td>-9.443380</td>\n",
       "      <td>147.220001</td>\n",
       "    </tr>\n",
       "  </tbody>\n",
       "</table>\n",
       "</div>"
      ],
      "text/plain": [
       "  Airport Code       Lat        Long\n",
       "0          GKA -6.081690  145.391998\n",
       "1          MAG -5.207080  145.789001\n",
       "2          HGU -5.826790  144.296005\n",
       "3          LAE -6.569803  146.725977\n",
       "4          POM -9.443380  147.220001"
      ]
     },
     "execution_count": 24,
     "metadata": {},
     "output_type": "execute_result"
    }
   ],
   "source": [
    "coords = pd.read_csv(\"airports.dat\", header = None).iloc[:,[4,6,7]]\n",
    "coords.columns = [\"Airport Code\", \"Lat\", \"Long\"]\n",
    "coords.head()"
   ]
  }
 ],
 "metadata": {
  "anaconda-cloud": {},
  "kernelspec": {
   "display_name": "Python [default]",
   "language": "python",
   "name": "python2"
  },
  "language_info": {
   "codemirror_mode": {
    "name": "ipython",
    "version": 2
   },
   "file_extension": ".py",
   "mimetype": "text/x-python",
   "name": "python",
   "nbconvert_exporter": "python",
   "pygments_lexer": "ipython2",
   "version": "2.7.12"
  }
 },
 "nbformat": 4,
 "nbformat_minor": 1
}
